{
  "nbformat": 4,
  "nbformat_minor": 0,
  "metadata": {
    "colab": {
      "provenance": [],
      "collapsed_sections": [
        "rRM1vFqnaXR2"
      ],
      "toc_visible": true,
      "include_colab_link": true
    },
    "kernelspec": {
      "name": "python3",
      "display_name": "Python 3"
    },
    "language_info": {
      "name": "python"
    },
    "gpuClass": "standard"
  },
  "cells": [
    {
      "cell_type": "markdown",
      "metadata": {
        "id": "view-in-github",
        "colab_type": "text"
      },
      "source": [
        "<a href=\"https://colab.research.google.com/github/tasn19/DataAnalyticsFlightPatterns/blob/main/ForecastNumFlights.ipynb\" target=\"_parent\"><img src=\"https://colab.research.google.com/assets/colab-badge.svg\" alt=\"Open In Colab\"/></a>"
      ]
    },
    {
      "cell_type": "markdown",
      "source": [
        "##Download & unzip - optional\n",
        "Or download parquet files and proceed to "
      ],
      "metadata": {
        "id": "rRM1vFqnaXR2"
      }
    },
    {
      "cell_type": "code",
      "execution_count": null,
      "metadata": {
        "id": "O_tR2mB6ZJGs"
      },
      "outputs": [],
      "source": [
        "! pip install kaggle\n",
        "! mkdir ~/.kaggle\n",
        "! cp /content/kaggle.json ~/.kaggle/\n",
        "! chmod 600 ~/.kaggle/kaggle.json\n",
        "! kaggle datasets download --force robikscube/flight-delay-dataset-20182022"
      ]
    },
    {
      "cell_type": "code",
      "source": [
        "import zipfile\n",
        "! unzip -q /content/flight-delay-dataset-20182022.zip -d Airlines"
      ],
      "metadata": {
        "id": "de6baO2TaeMP"
      },
      "execution_count": null,
      "outputs": []
    },
    {
      "cell_type": "markdown",
      "source": [
        "##Preprocess & save data"
      ],
      "metadata": {
        "id": "etqqLjTXa43E"
      }
    },
    {
      "cell_type": "code",
      "source": [
        "!pip install pyspark"
      ],
      "metadata": {
        "id": "G6K9I5Z1m5T4"
      },
      "execution_count": null,
      "outputs": []
    },
    {
      "cell_type": "code",
      "source": [
        "import pyspark\n",
        "from pyspark.sql import SparkSession\n",
        "import matplotlib.pyplot as plt\n",
        "\n",
        "#Loading all csvs into dataframes\n",
        "\n",
        "years = ['2018', '2019', '2020', '2021', '2022']\n",
        "dfs = []\n",
        "\n",
        "spark = SparkSession.builder.master(\"local[1]\") \\\n",
        "          .appName(\"SparkByExamples.com\") \\\n",
        "          .getOrCreate()\n",
        "\n",
        "for y in years:\n",
        "  df = spark.read.options(header='True', inferSchema='True').csv(f\"Airlines/Combined_Flights_{y}.csv\")\n",
        "  dfs.append(df)"
      ],
      "metadata": {
        "id": "LH54mutKp20s"
      },
      "execution_count": null,
      "outputs": []
    },
    {
      "cell_type": "code",
      "source": [
        "from pyspark.sql.functions import col\n",
        "from pyspark.sql.types import StringType, IntegerType\n",
        "from pyspark.sql.functions import udf\n",
        "from pyspark.sql.functions import when\n",
        "from pyspark.sql.functions import lit\n",
        "\n",
        "\n",
        "# DEFs\n",
        "def time_to_hour(x):\n",
        "  if x == '-1':\n",
        "    return '-1'\n",
        "  \n",
        "  return x[:2] if len(x) == 4 else x[:1]\n",
        "\n",
        "def time_to_minute(x):\n",
        "  if x == '-1':\n",
        "    return '-1'\n",
        "\n",
        "  if len(x) >= 3:\n",
        "    return x[-2:]\n",
        "  \n",
        "  return 0\n",
        "\n",
        "# UDFs\n",
        "\n",
        "udf_time_to_hour = udf(time_to_hour, StringType())\n",
        "udf_time_to_minute = udf(time_to_minute, StringType())\n",
        "# udf_range_to_name = udf(lambda x: 'Late Night' if x == 1 else \n",
        "#                         'Early Morning' if x == 2 else\n",
        "#                         'Morning' if x == 3 else\n",
        "#                         'Noon' if x == 4 else\n",
        "#                         'Evening' if x == 5 else\n",
        "#                         'Night' if x == 6 else\n",
        "#                         'ERROR'\n",
        "#                         , StringType())\n",
        "udf_to_is_delay = udf(lambda x: 1 if x > 0 else 0, IntegerType())\n",
        "udf_to_is_early = udf(lambda x: 1 if x < 0 else 0, IntegerType())\n",
        "udf_dist_to_sh_lo = udf(lambda x: 0 if x < 790 else 1, IntegerType())\n",
        "udf_day_to_mo_half = udf(lambda x: 0 if x <= 15 else 1, IntegerType())\n",
        "udf_city_to_state = udf(lambda x: x.split(',')[0], StringType())\n",
        "\n",
        "West = ['WA','OR','ID','MT','CA','NV','UT','AZ','CO','NM','AK','WY'] \n",
        "MidWest = ['ND','SD','NE','KS','MN','IA','MO','WI','IL','MI','IN','OH'] \n",
        "South = ['TX','OK','LA','AR','MS','AL','TN','KY','WV','FL','GA','SC','NC','VA','MD','DC','DE'] \n",
        "NorthEast = ['PA','NY','VT','NJ','CT','RI','MA','NH','ME','PR','VI']\n",
        "udf_state_to_geo = udf(lambda x: 0 if x in West else # west\n",
        "                      1 if x in MidWest else # midwest\n",
        "                      2 if x in South else # south\n",
        "                      3 if x in NorthEast else # northeast\n",
        "                      4 # error\n",
        "                      , IntegerType())\n",
        "\n",
        "\n",
        "#Pre-processing code\n",
        "def pre_process(df):\n",
        "  # we should have two fillna s because:\n",
        "  # each time pyspark will fill the nulls of the given type\n",
        "  df = df.fillna('-1')\n",
        "  df = df.fillna(-1)\n",
        "  df = df.withColumn(\"Cancelled\",col(\"Cancelled\").cast(\"Integer\"))\n",
        "  df = df.withColumn(\"Diverted\",col(\"Diverted\").cast(\"Integer\"))\n",
        "\n",
        "  df = df.withColumn(\"CRSDepTime\",col(\"CRSDepTime\").cast(\"Integer\"))\n",
        "  df = df.withColumn(\"CRSDepTime\",col(\"CRSDepTime\").cast(\"String\"))\n",
        "  df = df.withColumn(\"DepTime\",col(\"DepTime\").cast(\"Integer\"))\n",
        "  df = df.withColumn(\"DepTime\",col(\"DepTime\").cast(\"String\"))\n",
        "\n",
        "  df = df.withColumn(\"CRSDepHour\", udf_time_to_hour(\"CRSDepTime\"))\n",
        "  df = df.withColumn(\"CRSDepHour\",col(\"CRSDepHour\").cast(\"Integer\"))\n",
        "\n",
        "  df = df.withColumn(\"DepHour\", udf_time_to_hour(\"DepTime\"))\n",
        "  df = df.withColumn(\"DepHour\",col(\"DepHour\").cast(\"Integer\"))\n",
        "\n",
        "  df = df.withColumn(\"DepMinutes\", udf_time_to_minute(\"DepTime\"))\n",
        "  df = df.withColumn(\"DepMinutes\",col(\"DepMinutes\").cast(\"Integer\"))\n",
        "\n",
        "  df = df.withColumn(\"IsDepDelay\", udf_to_is_delay(\"DepDelay\"))\n",
        "  df = df.withColumn(\"IsDepEarly\", udf_to_is_early(\"DepDelay\"))\n",
        "\n",
        "  # Same pre-processing techniques as applied to departure columns\n",
        "\n",
        "  df = df.withColumn(\"CRSArrTime\",col(\"CRSArrTime\").cast(\"Integer\"))\n",
        "  df = df.withColumn(\"CRSArrTime\",col(\"CRSArrTime\").cast(\"String\"))\n",
        "  df = df.withColumn(\"ArrTime\",col(\"ArrTime\").cast(\"Integer\"))\n",
        "  df = df.withColumn(\"ArrTime\",col(\"ArrTime\").cast(\"String\"))\n",
        "\n",
        "  df = df.withColumn(\"CRSArrHour\", udf_time_to_hour(\"CRSArrTime\"))\n",
        "  df = df.withColumn(\"CRSArrHour\",col(\"CRSArrHour\").cast(\"Integer\"))\n",
        "  \n",
        "  df = df.withColumn(\"ArrHour\", udf_time_to_hour(\"ArrTime\"))\n",
        "  df = df.withColumn(\"ArrHour\",col(\"ArrHour\").cast(\"Integer\"))\n",
        "  \n",
        "  df = df.withColumn(\"ArrMinutes\", udf_time_to_minute(\"ArrTime\"))\n",
        "  df = df.withColumn(\"ArrMinutes\",col(\"ArrMinutes\").cast(\"Integer\"))\n",
        "\n",
        "  df = df.withColumn(\"IsArrDelay\", udf_to_is_delay(\"ArrDelay\"))\n",
        "  df = df.withColumn(\"IsArrEarly\", udf_to_is_early(\"ArrDelay\"))\n",
        "\n",
        "  df = df.withColumn(\"ShortOrLong\", udf_dist_to_sh_lo(\"Distance\"))\n",
        "  df = df.withColumn(\"TimeofMonth\", udf_day_to_mo_half(\"DayofMonth\"))\n",
        "\n",
        "  df = df.withColumn(\"OriginCityName\", udf_city_to_state(\"OriginCityName\"))\n",
        "  df = df.withColumn(\"DestCityName\", udf_city_to_state(\"DestCityName\"))\n",
        "\n",
        "  df = df.withColumn(\"GeoOrientation\", udf_state_to_geo(\"OriginState\"))\n",
        "\n",
        "  df = df.withColumn(\"DepDelayMinutes\",col(\"DepDelayMinutes\").cast(\"Integer\"))\n",
        "  df = df.withColumn(\"AirTime\",col(\"AirTime\").cast(\"Integer\"))\n",
        "  df = df.withColumn(\"ActualElapsedTime\",col(\"ActualElapsedTime\").cast(\"Integer\"))\n",
        "  df = df.withColumn(\"ArrDelayMinutes\",col(\"ArrDelayMinutes\").cast(\"Integer\"))\n",
        "  df = df.withColumn(\"TaxiOut\",col(\"TaxiOut\").cast(\"Integer\"))\n",
        "  df = df.withColumn(\"TaxiIn\",col(\"TaxiIn\").cast(\"Integer\"))\n",
        "\n",
        "  # I Tried this and it worked. Created 3 categories pre-pandemic - 1 , pandemic - 2, post pandemic - 3 - Mithila\n",
        "  # Note - Please double check if the conditions are correct :)\n",
        "  # Travel ban started March 2020 and ended November 2021 in the USA\n",
        "  df = df.withColumn(\"Pandemic\", \\\n",
        "    when((df.Year <= 2020) & (df.Month <= 3), 1) \\\n",
        "      .when((df.Year >= 2021) & (df.Month >= 11), 3) \\\n",
        "      .otherwise(2) \\\n",
        "    )\n",
        "\n",
        "  to_be_dropped = ('Distance',\n",
        "                   'WheelsOff',\n",
        "                   #'DayofMonth', # TN - don't remove, needed for combining all flights per day\n",
        "                   'FlightDate',\n",
        "                   'CRSDepTime',\n",
        "                  #  'DepTime', # Rmin: maybe we need it\n",
        "                   'WheelsOn',\n",
        "                   'CRSArrTime',\n",
        "                  #  'ArrTime', # Rmin: maybe we need it\n",
        "                   'ArrDelay',\n",
        "                   'OriginStateName',\n",
        "                   'DestStateName',\n",
        "                   'Operated_or_Branded_Code_Share_Partners',\n",
        "                   'DOT_ID_Marketing_Airline',\n",
        "                   'IATA_Code_Marketing_Airline',\n",
        "                   'Flight_Number_Marketing_Airline',\n",
        "                   'DOT_ID_Operating_Airline',\n",
        "                   'IATA_Code_Operating_Airline',\n",
        "                   'Tail_Number',\n",
        "                   'Flight_Number_Operating_Airline',\n",
        "                   'OriginAirportID',\n",
        "                   'OriginAirportSeqID',\n",
        "                   'OriginCityMarketID',\n",
        "                   'DestAirportID',\n",
        "                   'DestAirportSeqID',\n",
        "                   'DestCityMarketID',\n",
        "                   'DivAirportLandings',\n",
        "                   'OriginWac',\n",
        "                   'OriginStateFips',\n",
        "                   'DestStateFips',\n",
        "                   'DestWac',\n",
        "                   'Marketing_Airline_Network',\n",
        "                   'DepartureDelayGroups', #Added by Mithila # Rmin: great!\n",
        "                   'DepTimeBlk',\n",
        "                   'Operating_Airline',\n",
        "                   'DepDelay', # we are using DepDelayMinutes instead cuz it doesnt have neg vals for early flights\n",
        "                   'DepartureDelayGroups',\n",
        "                   'DepTimeBlk',\n",
        "                   'ArrivalDelayGroups',\n",
        "                   'ArrTimeBlk',\n",
        "                   'CRSElapsedTime',\n",
        "                   'DistanceGroup', #Do we need this column? # Rmin: no i dont think so\n",
        "                   'DepDel15',\n",
        "                   'ArrDel15',\n",
        "                   'CRSDepTime',\n",
        "                   'DepTime',\n",
        "                   'CRSArrTime',\n",
        "                   'ArrTime'\n",
        "                   )\n",
        "  \n",
        "  df = df.drop(*to_be_dropped)\n",
        "\n",
        "  return df"
      ],
      "metadata": {
        "id": "s3LIvTBqa6Lg"
      },
      "execution_count": null,
      "outputs": []
    },
    {
      "cell_type": "code",
      "source": [
        "pp_dfs = [pre_process(df) for df in dfs]"
      ],
      "metadata": {
        "id": "cI9PUVwDpGqk"
      },
      "execution_count": null,
      "outputs": []
    },
    {
      "cell_type": "code",
      "source": [
        "pp_dfs[0].show()"
      ],
      "metadata": {
        "id": "OZ0toynfqAbR",
        "colab": {
          "base_uri": "https://localhost:8080/"
        },
        "outputId": "502e2fa5-2460-4843-8275-8e74b8f6a54b"
      },
      "execution_count": null,
      "outputs": [
        {
          "output_type": "stream",
          "name": "stdout",
          "text": [
            "+-----------------+------+----+---------+--------+---------------+---------------+-------+-----------------+----+-------+-----+----------+---------+--------------+-----------+------------+---------+-------+------+----------+-------+----------+----------+----------+----------+-------+----------+----------+----------+-----------+-----------+--------------+--------+\n",
            "|          Airline|Origin|Dest|Cancelled|Diverted|DepDelayMinutes|ArrDelayMinutes|AirTime|ActualElapsedTime|Year|Quarter|Month|DayofMonth|DayOfWeek|OriginCityName|OriginState|DestCityName|DestState|TaxiOut|TaxiIn|CRSDepHour|DepHour|DepMinutes|IsDepDelay|IsDepEarly|CRSArrHour|ArrHour|ArrMinutes|IsArrDelay|IsArrEarly|ShortOrLong|TimeofMonth|GeoOrientation|Pandemic|\n",
            "+-----------------+------+----+---------+--------+---------------+---------------+-------+-----------------+----+-------+-----+----------+---------+--------------+-----------+------------+---------+-------+------+----------+-------+----------+----------+----------+----------+-------+----------+----------+----------+-----------+-----------+--------------+--------+\n",
            "|Endeavor Air Inc.|   ABY| ATL|        0|       0|              0|              0|     38|               59|2018|      1|    1|        23|        2|        Albany|         GA|     Atlanta|       GA|     14|     7|        12|     11|        57|         0|         1|        13|     12|        56|         0|         1|          0|          1|             2|       1|\n",
            "|Endeavor Air Inc.|   ABY| ATL|        0|       0|              0|              0|     36|               61|2018|      1|    1|        24|        3|        Albany|         GA|     Atlanta|       GA|     13|    12|        12|     11|        57|         0|         1|        13|     12|        58|         0|         1|          0|          1|             2|       1|\n",
            "|Endeavor Air Inc.|   ABY| ATL|        0|       0|              0|              0|     40|               69|2018|      1|    1|        25|        4|        Albany|         GA|     Atlanta|       GA|     18|    11|        12|     11|        53|         0|         1|        13|     13|         2|         0|         1|          0|          1|             2|       1|\n",
            "|Endeavor Air Inc.|   ABY| ATL|        0|       0|              0|              0|     35|               63|2018|      1|    1|        26|        5|        Albany|         GA|     Atlanta|       GA|     17|    11|        12|     11|        50|         0|         1|        13|     12|        53|         0|         1|          0|          1|             2|       1|\n",
            "|Endeavor Air Inc.|   ABY| ATL|        0|       0|              0|              0|     36|               64|2018|      1|    1|        27|        6|        Albany|         GA|     Atlanta|       GA|     17|    11|        14|     13|        55|         0|         1|        15|     14|        59|         0|         1|          0|          1|             2|       1|\n",
            "|Endeavor Air Inc.|   ABY| ATL|        0|       0|             -1|             22|     37|               84|2018|      1|    1|        28|        7|        Albany|         GA|     Atlanta|       GA|     34|    13|        12|     12|         2|         0|         1|        13|     13|        26|         1|         0|          0|          1|             2|       1|\n",
            "|Endeavor Air Inc.|   ABY| ATL|        0|       0|              2|              0|     34|               59|2018|      1|    1|        29|        1|        Albany|         GA|     Atlanta|       GA|     15|    10|        12|     12|         4|         1|         0|        13|     13|         3|         0|         1|          0|          1|             2|       1|\n",
            "|Endeavor Air Inc.|   ABY| ATL|        0|       0|              0|              0|     44|               62|2018|      1|    1|        30|        2|        Albany|         GA|     Atlanta|       GA|      7|    11|        12|     11|        53|         0|         1|        13|     12|        55|         0|         1|          0|          1|             2|       1|\n",
            "|Endeavor Air Inc.|   ABY| ATL|        0|       0|              0|             -1|     37|               71|2018|      1|    1|        31|        3|        Albany|         GA|     Atlanta|       GA|     26|     8|        12|     11|        53|         0|         1|        13|     13|         4|         0|         1|          0|          1|             2|       1|\n",
            "|Endeavor Air Inc.|   ATL| ABY|        0|       0|             24|             22|     32|               58|2018|      1|    1|         3|        3|       Atlanta|         GA|      Albany|       GA|     23|     3|        10|     11|         1|         1|         0|        11|     11|        59|         1|         0|          0|          0|             2|       1|\n",
            "|Endeavor Air Inc.|   ATL| ABY|        0|       0|              0|              0|     27|               53|2018|      1|    1|         4|        4|       Atlanta|         GA|      Albany|       GA|     23|     3|        10|     10|        32|         0|         1|        11|     11|        25|         0|         1|          0|          0|             2|       1|\n",
            "|Endeavor Air Inc.|   ATL| ABY|        0|       0|              0|              0|     29|               52|2018|      1|    1|         5|        5|       Atlanta|         GA|      Albany|       GA|     20|     3|        10|     10|        32|         0|         1|        11|     11|        24|         0|         1|          0|          0|             2|       1|\n",
            "|Endeavor Air Inc.|   ATL| ABY|        0|       0|              0|              0|     34|               54|2018|      1|    1|         6|        6|       Atlanta|         GA|      Albany|       GA|     18|     2|        10|     10|        32|         0|         1|        11|     11|        26|         0|         1|          0|          0|             2|       1|\n",
            "|Endeavor Air Inc.|   ATL| ABY|        0|       0|              0|              0|     29|               50|2018|      1|    1|         7|        7|       Atlanta|         GA|      Albany|       GA|     18|     3|        10|     10|        34|         0|         1|        11|     11|        24|         0|         1|          0|          0|             2|       1|\n",
            "|Endeavor Air Inc.|   ATL| ABY|        0|       0|             22|             16|     32|               54|2018|      1|    1|         8|        1|       Atlanta|         GA|      Albany|       GA|     18|     4|        10|     10|        59|         1|         0|        11|     11|        53|         1|         0|          0|          0|             2|       1|\n",
            "|Endeavor Air Inc.|   ATL| ABY|        0|       0|            105|            105|     37|               60|2018|      1|    1|         9|        2|       Atlanta|         GA|      Albany|       GA|     20|     3|        10|     12|        22|         1|         0|        11|     13|        22|         1|         0|          0|          0|             2|       1|\n",
            "|Endeavor Air Inc.|   ATL| ABY|        0|       0|              0|              0|     37|               59|2018|      1|    1|        10|        3|       Atlanta|         GA|      Albany|       GA|     19|     3|        10|     10|        27|         0|         1|        11|     11|        26|         0|         1|          0|          0|             2|       1|\n",
            "|Endeavor Air Inc.|   ATL| ABY|        0|       0|              0|              8|     38|               72|2018|      1|    1|        11|        4|       Atlanta|         GA|      Albany|       GA|     31|     3|        10|     10|        33|         0|         1|        11|     11|        45|         1|         0|          0|          0|             2|       1|\n",
            "|Endeavor Air Inc.|   ATL| ABY|        0|       0|              7|              1|     35|               54|2018|      1|    1|        12|        5|       Atlanta|         GA|      Albany|       GA|     16|     3|        10|     10|        44|         1|         0|        11|     11|        38|         1|         0|          0|          0|             2|       1|\n",
            "|Endeavor Air Inc.|   ATL| ABY|        0|       0|              0|              0|     34|               52|2018|      1|    1|        13|        6|       Atlanta|         GA|      Albany|       GA|     16|     2|        10|     10|        34|         0|         1|        11|     11|        26|         0|         1|          0|          0|             2|       1|\n",
            "+-----------------+------+----+---------+--------+---------------+---------------+-------+-----------------+----+-------+-----+----------+---------+--------------+-----------+------------+---------+-------+------+----------+-------+----------+----------+----------+----------+-------+----------+----------+----------+-----------+-----------+--------------+--------+\n",
            "only showing top 20 rows\n",
            "\n"
          ]
        }
      ]
    },
    {
      "cell_type": "markdown",
      "source": [
        "Encode categorical columns with frequency encoding"
      ],
      "metadata": {
        "id": "heLu-6YObTYU"
      }
    },
    {
      "cell_type": "code",
      "source": [
        "import pyspark.sql.functions as pfn\n",
        "\n",
        "cat_dfs = []\n",
        "\n",
        "categorical_columns = ['Airline', \n",
        "                       'Origin', \n",
        "                       'Dest', \n",
        "                       'OriginCityName', \n",
        "                       'OriginState',\n",
        "                       'DestCityName',\n",
        "                       'DestState',\n",
        "                       ]\n",
        "# categorical_columns = []\n",
        "\n",
        "\n",
        "for df in pp_dfs:\n",
        "  res = df\n",
        "  total = df.count()\n",
        "\n",
        "  for cc in categorical_columns:\n",
        "    freq = df.groupBy(cc).agg(pfn.count(\"*\") / total).withColumnRenamed(f'(count(1) / {total})', cc + \"ID\")\n",
        "    res = res.join(freq, cc, \"left\") \n",
        "\n",
        "  cat_dfs.append(res)\n"
      ],
      "metadata": {
        "id": "MK9TvrUFbB5K"
      },
      "execution_count": null,
      "outputs": []
    },
    {
      "cell_type": "code",
      "source": [
        "final_df = cat_dfs[0]\n",
        "\n",
        "for df in cat_dfs[1:]:\n",
        "  final_df = final_df.union(df)"
      ],
      "metadata": {
        "id": "uBfguzLrqG4M"
      },
      "execution_count": null,
      "outputs": []
    },
    {
      "cell_type": "code",
      "source": [
        "# SAVE AS PARQUET\n",
        "\n",
        "#final_df.repartition(1).write.option(\"header\", True).format('parquet').save('/content/drive/MyDrive/DA/final_df')"
      ],
      "metadata": {
        "id": "VeUKstEdR1Nx"
      },
      "execution_count": null,
      "outputs": []
    },
    {
      "cell_type": "markdown",
      "source": [
        "Create dataframe with flights per day combined"
      ],
      "metadata": {
        "id": "jOG8wYJ3bz1k"
      }
    },
    {
      "cell_type": "code",
      "source": [
        "import pyspark\n",
        "from pyspark.sql import SparkSession\n",
        "\n",
        "spark = SparkSession.builder.master(\"local[1]\") \\\n",
        "          .appName(\"SparkByExamples.com\") \\\n",
        "          .getOrCreate()"
      ],
      "metadata": {
        "id": "Kj83D_2UhB_p"
      },
      "execution_count": 12,
      "outputs": []
    },
    {
      "cell_type": "code",
      "source": [
        "# READ PARQUET - don't need to do this, can just open smaller parquet\n",
        "# this file is preprocessed + freq encoded, not one-hot encoded\n",
        "final_df = spark.read.parquet('/content/drive/MyDrive/DA/preprocessedData.snappy.parquet') "
      ],
      "metadata": {
        "id": "9ptvwyuSSLXH"
      },
      "execution_count": 16,
      "outputs": []
    },
    {
      "cell_type": "code",
      "source": [
        "final_df.show(n=10)"
      ],
      "metadata": {
        "id": "vw_92jFShe62",
        "colab": {
          "base_uri": "https://localhost:8080/"
        },
        "outputId": "723834ef-d3e8-4c61-dedd-9965a6ccc2f3"
      },
      "execution_count": null,
      "outputs": [
        {
          "output_type": "stream",
          "name": "stdout",
          "text": [
            "+---------+------------+-----------+--------------------+----+------+--------------------+---------+--------+---------------+---------------+-------+-----------------+----+-------+-----+----------+---------+-------+------+----------+-------+----------+----------+----------+----------+-------+----------+----------+----------+-----------+-----------+--------------+--------+------------------+--------------------+--------------------+--------------------+--------------------+--------------------+--------------------+\n",
            "|DestState|DestCityName|OriginState|      OriginCityName|Dest|Origin|             Airline|Cancelled|Diverted|DepDelayMinutes|ArrDelayMinutes|AirTime|ActualElapsedTime|Year|Quarter|Month|DayofMonth|DayOfWeek|TaxiOut|TaxiIn|CRSDepHour|DepHour|DepMinutes|IsDepDelay|IsDepEarly|CRSArrHour|ArrHour|ArrMinutes|IsArrDelay|IsArrEarly|ShortOrLong|TimeofMonth|GeoOrientation|Pandemic|         AirlineID|            OriginID|              DestID|    OriginCityNameID|       OriginStateID|      DestCityNameID|         DestStateID|\n",
            "+---------+------------+-----------+--------------------+----+------+--------------------+---------+--------+---------------+---------------+-------+-----------------+----+-------+-----+----------+---------+-------+------+----------+-------+----------+----------+----------+----------+-------+----------+----------+----------+-----------+-----------+--------------+--------+------------------+--------------------+--------------------+--------------------+--------------------+--------------------+--------------------+\n",
            "|       CO|      Denver|         WY|              Casper| DEN|   CPR|GoJet Airlines, L...|        0|       0|              0|              0|     37|               56|2018|      1|    1|        12|        5|     11|     8|         5|      5|        47|         0|         1|         7|      6|        43|         0|         1|          0|          0|             0|       1|0.0111605353851086|3.061774015064912...|0.044278841489393116|3.061774015064912...|0.001385531834716...|0.044278841489393116| 0.04904199165060202|\n",
            "|       NE|       Omaha|         IL|             Chicago| OMA|   ORD|GoJet Airlines, L...|        0|       0|              0|              0|     66|               99|2018|      1|    1|        12|        5|     30|     3|         8|      8|        53|         0|         1|        10|     10|        32|         0|         1|          0|          0|             1|       1|0.0111605353851086| 0.05087448624767819|0.003565683664961...| 0.06581285003002015|  0.0685313608618806|0.003565683664961...|0.004382625434307898|\n",
            "|       IL|     Chicago|         GA|             Atlanta| ORD|   ATL|GoJet Airlines, L...|        0|       0|              0|              0|     88|              121|2018|      1|    1|        12|        5|     23|    10|        21|     21|        19|         0|         1|        22|     22|        20|         0|         1|          0|          0|             2|       1|0.0111605353851086| 0.03933729289963709| 0.05086640119574403| 0.03933729289963709| 0.04211521128701372| 0.06580300735810031| 0.06852222123795502|\n",
            "|       CO|      Denver|         MO|         Kansas City| DEN|   MCI|GoJet Airlines, L...|        0|       0|              0|              2|     88|              119|2018|      1|    1|        12|        5|     14|    17|        19|     19|        53|         0|         1|        20|     20|        52|         1|         0|          0|          0|             1|       1|0.0111605353851086|0.008186642369327984|0.044278841489393116|0.008186642369327984| 0.02057399650444537|0.044278841489393116| 0.04904199165060202|\n",
            "|       IL|     Chicago|         IA|Cedar Rapids/Iowa...| ORD|   CID|GoJet Airlines, L...|        0|       0|              0|              0|     38|               61|2018|      1|    1|        12|        5|     11|    12|        15|     15|        35|         0|         1|        16|     16|        36|         0|         1|          0|          0|             1|       1|0.0111605353851086|0.001118373596891...| 0.05086640119574403|0.001118373596891...|0.003389394380396...| 0.06580300735810031| 0.06852222123795502|\n",
            "|       IL|     Chicago|         KY|          Cincinnati| ORD|   CVG|GoJet Airlines, L...|        0|       0|             66|            100|     56|              119|2018|      1|    1|        12|        5|     46|    17|        17|     18|         7|         1|         0|        17|     19|         6|         1|         0|          0|          0|             2|       1|0.0111605353851086|0.005880644948108028| 0.05086640119574403|0.005880644948108028|0.010518476804337524| 0.06580300735810031| 0.06852222123795502|\n",
            "|       KY|  Cincinnati|         IL|             Chicago| CVG|   ORD|GoJet Airlines, L...|        0|       0|              0|             19|     57|              103|2018|      1|    1|        12|        5|     42|     4|        10|     10|        34|         0|         1|        12|     13|        17|         1|         0|          0|          0|             1|       1|0.0111605353851086| 0.05087448624767819|0.005880293424110...| 0.06581285003002015|  0.0685313608618806|0.005880293424110...| 0.01051900409033323|\n",
            "|       KY|  Cincinnati|         IL|             Chicago| CVG|   ORD|GoJet Airlines, L...|        0|       0|             71|             68|     48|               77|2018|      1|    1|        12|        5|     22|     7|        14|     15|        16|         1|         0|        16|     17|        33|         1|         0|          0|          0|             1|       1|0.0111605353851086| 0.05087448624767819|0.005880293424110...| 0.06581285003002015|  0.0685313608618806|0.005880293424110...| 0.01051900409033323|\n",
            "|       IL|     Chicago|         KY|          Cincinnati| ORD|   CVG|GoJet Airlines, L...|        0|       0|              0|              0|     55|               86|2018|      1|    1|        12|        5|     17|    14|        14|     14|         1|         0|         1|        14|     14|        27|         0|         1|          0|          0|             2|       1|0.0111605353851086|0.005880644948108028| 0.05086640119574403|0.005880644948108028|0.010518476804337524| 0.06580300735810031| 0.06852222123795502|\n",
            "|       WY|      Casper|         CO|              Denver| CPR|   DEN|GoJet Airlines, L...|        0|       0|            101|            102|     41|               69|2018|      1|    1|        12|        5|     25|     3|        15|     17|         6|         1|         0|        16|     18|        15|         1|         0|          0|          0|             0|       1|0.0111605353851086| 0.04427427167743033|3.061774015064912...| 0.04427427167743033| 0.04903830064863208|3.061774015064912...|0.001385531834716...|\n",
            "+---------+------------+-----------+--------------------+----+------+--------------------+---------+--------+---------------+---------------+-------+-----------------+----+-------+-----+----------+---------+-------+------+----------+-------+----------+----------+----------+----------+-------+----------+----------+----------+-----------+-----------+--------------+--------+------------------+--------------------+--------------------+--------------------+--------------------+--------------------+--------------------+\n",
            "only showing top 10 rows\n",
            "\n"
          ]
        }
      ]
    },
    {
      "cell_type": "code",
      "source": [
        "# Create dataframe with flights per day combined \n",
        "from pyspark.sql.functions import concat_ws, year, month\n",
        "\n",
        "def fix_date(x):\n",
        "  y, m, d = x.split('-')\n",
        "\n",
        "  d = d if len(d) == 2 else '0' + d\n",
        "  m = m if len(m) == 2 else '0' + m\n",
        "\n",
        "  return f'{y}-{m}-{d}'\n",
        "\n",
        "udf_fix_date = udf(fix_date, StringType())\n",
        "\n",
        "# concatenate year-month-day columns\n",
        "df2 = final_df.select(concat_ws('-', final_df.Year, final_df.Month, final_df.DayofMonth).alias(\"Date\"),\"Cancelled\", \"Diverted\", \"DepDelayMinutes\")\n",
        "\n",
        "from pyspark.sql.functions import avg, sum, count\n",
        "\n",
        "df2 = df2.withColumn('Date', udf_fix_date('Date'))\n",
        "df_flightsPerDay = df2.groupBy('Date').agg(avg('DepDelayMinutes').alias('Avg_Delay'), sum('Cancelled').alias('Sum_Cancelled'), sum('Diverted').alias('Sum_Diverted'), count('*').alias('Num_Flights'))\n",
        "\n",
        "# convert string to date datatype\n",
        "from pyspark.sql.functions import to_date\n",
        "df_flightsPerDay = df_flightsPerDay.withColumn(\"Date\", to_date(\"Date\", \"yyyy-MM-dd\"))\n",
        "\n",
        "# Add a pandemic column\n",
        "df_flightsPerDay = df_flightsPerDay.withColumn(\"Pandemic\", \\\n",
        "    when((year(df_flightsPerDay['Date']) == 2019), 1) \\\n",
        "      .when((year(df_flightsPerDay['Date']) == 2020) & (month(df_flightsPerDay['Date']) <= 3), 1) \\\n",
        "      .when((year(df_flightsPerDay['Date']) == 2020) & (month(df_flightsPerDay['Date']) > 3), 2) \\\n",
        "      .when((year(df_flightsPerDay['Date']) == 2021) & (month(df_flightsPerDay['Date']) <= 11), 2) \\\n",
        "      .otherwise(3) \n",
        "    )\n",
        "#df_flightsPerDay = df_flightsPerDay.withColumm(\"Pandemic\", when((year(df_flightsPerDay.date) <= 2020) & (month(df_flightsPerDay.date) <= 3), 1).when((year(df_flightsPerDay.date) >= 2021) & (month(df_flightsPerDay.date) >= 11), 3).otherwise(2))\n",
        "                                               "
      ],
      "metadata": {
        "id": "uSrs3ZS4b2YS"
      },
      "execution_count": null,
      "outputs": []
    },
    {
      "cell_type": "code",
      "source": [
        "# SAVE AS PARQUET - save smaller dataset with flights per day combined\n",
        "\n",
        "#df_flightsPerDay.repartition(1).write.option(\"header\", True).format('parquet').save('/content/drive/MyDrive/DA/forecastDF_correct')"
      ],
      "metadata": {
        "id": "JterScebYM7A"
      },
      "execution_count": null,
      "outputs": []
    },
    {
      "cell_type": "markdown",
      "source": [
        "## Load saved dataset of flight statistics per day\n",
        "Columns included: \n",
        "*   date\n",
        "*   number of flights per day\n",
        "*   sum of cancellations\n",
        "*   sum of diversions\n",
        "*   average delay in minutes\n",
        "*   pandemic label"
      ],
      "metadata": {
        "id": "63ZlUI1LELln"
      }
    },
    {
      "cell_type": "code",
      "source": [
        "from google.colab import drive\n",
        "drive.mount('/content/drive')"
      ],
      "metadata": {
        "colab": {
          "base_uri": "https://localhost:8080/"
        },
        "id": "ySWQQQjRHQCc",
        "outputId": "1928de96-e188-415e-ce5e-ba99ad7a9397"
      },
      "execution_count": 15,
      "outputs": [
        {
          "output_type": "stream",
          "name": "stdout",
          "text": [
            "Drive already mounted at /content/drive; to attempt to forcibly remount, call drive.mount(\"/content/drive\", force_remount=True).\n"
          ]
        }
      ]
    },
    {
      "cell_type": "code",
      "source": [
        "import pandas as pd\n",
        "dfpd_flights = pd.read_parquet('/content/drive/MyDrive/DA/forecastDF_correct/combinedFlightsperDay.snappy.parquet') "
      ],
      "metadata": {
        "id": "2pp7HmirR7oZ"
      },
      "execution_count": 18,
      "outputs": []
    },
    {
      "cell_type": "code",
      "source": [
        "dfpd_flights.loc[dfpd_flights['Pandemic'] == 3]"
      ],
      "metadata": {
        "id": "ec4k3OwT6SD7"
      },
      "execution_count": null,
      "outputs": []
    },
    {
      "cell_type": "code",
      "source": [
        "# sort rows according to date\n",
        "dfpd_flights = dfpd_flights.sort_values('Date')"
      ],
      "metadata": {
        "id": "XEKKo5ffGo1f"
      },
      "execution_count": null,
      "outputs": []
    },
    {
      "cell_type": "code",
      "source": [
        "dfpd_flights"
      ],
      "metadata": {
        "colab": {
          "base_uri": "https://localhost:8080/",
          "height": 423
        },
        "id": "hR_B3KZHHsWc",
        "outputId": "297c2048-3062-428b-cdc5-6639cba31b54"
      },
      "execution_count": null,
      "outputs": [
        {
          "output_type": "execute_result",
          "data": {
            "text/plain": [
              "            Date  Avg_Delay  Sum_Cancelled  Sum_Diverted  Num_Flights  \\\n",
              "67    2018-01-01  21.545840            129            33        14147   \n",
              "187   2018-01-02  18.592156            110            20        15962   \n",
              "357   2018-01-03  14.701765            449            28        15357   \n",
              "142   2018-01-04   9.153696           3001            51        15420   \n",
              "426   2018-01-05  20.003299           1007            29        15459   \n",
              "...          ...        ...            ...           ...          ...   \n",
              "1480  2022-07-27  15.612163            212            58        19815   \n",
              "1556  2022-07-28  16.285975            610            54        20841   \n",
              "1665  2022-07-29  16.283493            294            98        20833   \n",
              "1348  2022-07-30  15.407732            256            43        18468   \n",
              "1551  2022-07-31  17.570515            482            34        20492   \n",
              "\n",
              "      Pandemic  \n",
              "67           3  \n",
              "187          3  \n",
              "357          3  \n",
              "142          3  \n",
              "426          3  \n",
              "...        ...  \n",
              "1480         3  \n",
              "1556         3  \n",
              "1665         3  \n",
              "1348         3  \n",
              "1551         3  \n",
              "\n",
              "[1673 rows x 6 columns]"
            ],
            "text/html": [
              "\n",
              "  <div id=\"df-9258a666-08a7-46ff-a70f-669502cb1aec\">\n",
              "    <div class=\"colab-df-container\">\n",
              "      <div>\n",
              "<style scoped>\n",
              "    .dataframe tbody tr th:only-of-type {\n",
              "        vertical-align: middle;\n",
              "    }\n",
              "\n",
              "    .dataframe tbody tr th {\n",
              "        vertical-align: top;\n",
              "    }\n",
              "\n",
              "    .dataframe thead th {\n",
              "        text-align: right;\n",
              "    }\n",
              "</style>\n",
              "<table border=\"1\" class=\"dataframe\">\n",
              "  <thead>\n",
              "    <tr style=\"text-align: right;\">\n",
              "      <th></th>\n",
              "      <th>Date</th>\n",
              "      <th>Avg_Delay</th>\n",
              "      <th>Sum_Cancelled</th>\n",
              "      <th>Sum_Diverted</th>\n",
              "      <th>Num_Flights</th>\n",
              "      <th>Pandemic</th>\n",
              "    </tr>\n",
              "  </thead>\n",
              "  <tbody>\n",
              "    <tr>\n",
              "      <th>67</th>\n",
              "      <td>2018-01-01</td>\n",
              "      <td>21.545840</td>\n",
              "      <td>129</td>\n",
              "      <td>33</td>\n",
              "      <td>14147</td>\n",
              "      <td>3</td>\n",
              "    </tr>\n",
              "    <tr>\n",
              "      <th>187</th>\n",
              "      <td>2018-01-02</td>\n",
              "      <td>18.592156</td>\n",
              "      <td>110</td>\n",
              "      <td>20</td>\n",
              "      <td>15962</td>\n",
              "      <td>3</td>\n",
              "    </tr>\n",
              "    <tr>\n",
              "      <th>357</th>\n",
              "      <td>2018-01-03</td>\n",
              "      <td>14.701765</td>\n",
              "      <td>449</td>\n",
              "      <td>28</td>\n",
              "      <td>15357</td>\n",
              "      <td>3</td>\n",
              "    </tr>\n",
              "    <tr>\n",
              "      <th>142</th>\n",
              "      <td>2018-01-04</td>\n",
              "      <td>9.153696</td>\n",
              "      <td>3001</td>\n",
              "      <td>51</td>\n",
              "      <td>15420</td>\n",
              "      <td>3</td>\n",
              "    </tr>\n",
              "    <tr>\n",
              "      <th>426</th>\n",
              "      <td>2018-01-05</td>\n",
              "      <td>20.003299</td>\n",
              "      <td>1007</td>\n",
              "      <td>29</td>\n",
              "      <td>15459</td>\n",
              "      <td>3</td>\n",
              "    </tr>\n",
              "    <tr>\n",
              "      <th>...</th>\n",
              "      <td>...</td>\n",
              "      <td>...</td>\n",
              "      <td>...</td>\n",
              "      <td>...</td>\n",
              "      <td>...</td>\n",
              "      <td>...</td>\n",
              "    </tr>\n",
              "    <tr>\n",
              "      <th>1480</th>\n",
              "      <td>2022-07-27</td>\n",
              "      <td>15.612163</td>\n",
              "      <td>212</td>\n",
              "      <td>58</td>\n",
              "      <td>19815</td>\n",
              "      <td>3</td>\n",
              "    </tr>\n",
              "    <tr>\n",
              "      <th>1556</th>\n",
              "      <td>2022-07-28</td>\n",
              "      <td>16.285975</td>\n",
              "      <td>610</td>\n",
              "      <td>54</td>\n",
              "      <td>20841</td>\n",
              "      <td>3</td>\n",
              "    </tr>\n",
              "    <tr>\n",
              "      <th>1665</th>\n",
              "      <td>2022-07-29</td>\n",
              "      <td>16.283493</td>\n",
              "      <td>294</td>\n",
              "      <td>98</td>\n",
              "      <td>20833</td>\n",
              "      <td>3</td>\n",
              "    </tr>\n",
              "    <tr>\n",
              "      <th>1348</th>\n",
              "      <td>2022-07-30</td>\n",
              "      <td>15.407732</td>\n",
              "      <td>256</td>\n",
              "      <td>43</td>\n",
              "      <td>18468</td>\n",
              "      <td>3</td>\n",
              "    </tr>\n",
              "    <tr>\n",
              "      <th>1551</th>\n",
              "      <td>2022-07-31</td>\n",
              "      <td>17.570515</td>\n",
              "      <td>482</td>\n",
              "      <td>34</td>\n",
              "      <td>20492</td>\n",
              "      <td>3</td>\n",
              "    </tr>\n",
              "  </tbody>\n",
              "</table>\n",
              "<p>1673 rows × 6 columns</p>\n",
              "</div>\n",
              "      <button class=\"colab-df-convert\" onclick=\"convertToInteractive('df-9258a666-08a7-46ff-a70f-669502cb1aec')\"\n",
              "              title=\"Convert this dataframe to an interactive table.\"\n",
              "              style=\"display:none;\">\n",
              "        \n",
              "  <svg xmlns=\"http://www.w3.org/2000/svg\" height=\"24px\"viewBox=\"0 0 24 24\"\n",
              "       width=\"24px\">\n",
              "    <path d=\"M0 0h24v24H0V0z\" fill=\"none\"/>\n",
              "    <path d=\"M18.56 5.44l.94 2.06.94-2.06 2.06-.94-2.06-.94-.94-2.06-.94 2.06-2.06.94zm-11 1L8.5 8.5l.94-2.06 2.06-.94-2.06-.94L8.5 2.5l-.94 2.06-2.06.94zm10 10l.94 2.06.94-2.06 2.06-.94-2.06-.94-.94-2.06-.94 2.06-2.06.94z\"/><path d=\"M17.41 7.96l-1.37-1.37c-.4-.4-.92-.59-1.43-.59-.52 0-1.04.2-1.43.59L10.3 9.45l-7.72 7.72c-.78.78-.78 2.05 0 2.83L4 21.41c.39.39.9.59 1.41.59.51 0 1.02-.2 1.41-.59l7.78-7.78 2.81-2.81c.8-.78.8-2.07 0-2.86zM5.41 20L4 18.59l7.72-7.72 1.47 1.35L5.41 20z\"/>\n",
              "  </svg>\n",
              "      </button>\n",
              "      \n",
              "  <style>\n",
              "    .colab-df-container {\n",
              "      display:flex;\n",
              "      flex-wrap:wrap;\n",
              "      gap: 12px;\n",
              "    }\n",
              "\n",
              "    .colab-df-convert {\n",
              "      background-color: #E8F0FE;\n",
              "      border: none;\n",
              "      border-radius: 50%;\n",
              "      cursor: pointer;\n",
              "      display: none;\n",
              "      fill: #1967D2;\n",
              "      height: 32px;\n",
              "      padding: 0 0 0 0;\n",
              "      width: 32px;\n",
              "    }\n",
              "\n",
              "    .colab-df-convert:hover {\n",
              "      background-color: #E2EBFA;\n",
              "      box-shadow: 0px 1px 2px rgba(60, 64, 67, 0.3), 0px 1px 3px 1px rgba(60, 64, 67, 0.15);\n",
              "      fill: #174EA6;\n",
              "    }\n",
              "\n",
              "    [theme=dark] .colab-df-convert {\n",
              "      background-color: #3B4455;\n",
              "      fill: #D2E3FC;\n",
              "    }\n",
              "\n",
              "    [theme=dark] .colab-df-convert:hover {\n",
              "      background-color: #434B5C;\n",
              "      box-shadow: 0px 1px 3px 1px rgba(0, 0, 0, 0.15);\n",
              "      filter: drop-shadow(0px 1px 2px rgba(0, 0, 0, 0.3));\n",
              "      fill: #FFFFFF;\n",
              "    }\n",
              "  </style>\n",
              "\n",
              "      <script>\n",
              "        const buttonEl =\n",
              "          document.querySelector('#df-9258a666-08a7-46ff-a70f-669502cb1aec button.colab-df-convert');\n",
              "        buttonEl.style.display =\n",
              "          google.colab.kernel.accessAllowed ? 'block' : 'none';\n",
              "\n",
              "        async function convertToInteractive(key) {\n",
              "          const element = document.querySelector('#df-9258a666-08a7-46ff-a70f-669502cb1aec');\n",
              "          const dataTable =\n",
              "            await google.colab.kernel.invokeFunction('convertToInteractive',\n",
              "                                                     [key], {});\n",
              "          if (!dataTable) return;\n",
              "\n",
              "          const docLinkHtml = 'Like what you see? Visit the ' +\n",
              "            '<a target=\"_blank\" href=https://colab.research.google.com/notebooks/data_table.ipynb>data table notebook</a>'\n",
              "            + ' to learn more about interactive tables.';\n",
              "          element.innerHTML = '';\n",
              "          dataTable['output_type'] = 'display_data';\n",
              "          await google.colab.output.renderOutput(dataTable, element);\n",
              "          const docLink = document.createElement('div');\n",
              "          docLink.innerHTML = docLinkHtml;\n",
              "          element.appendChild(docLink);\n",
              "        }\n",
              "      </script>\n",
              "    </div>\n",
              "  </div>\n",
              "  "
            ]
          },
          "metadata": {},
          "execution_count": 33
        }
      ]
    },
    {
      "cell_type": "markdown",
      "source": [
        "## XGBoost Regressor"
      ],
      "metadata": {
        "id": "58e-65eRGJH_"
      }
    },
    {
      "cell_type": "code",
      "source": [
        "# split up date for model\n",
        "dfpd_flights[\"Date\"] = pd.to_datetime(dfpd_flights[\"Date\"])\n",
        "dfpd_flights['month'] = dfpd_flights['Date'].dt.month\n",
        "dfpd_flights['year'] = dfpd_flights['Date'].dt.year\n",
        "dfpd_flights['day'] = dfpd_flights['Date'].dt.day\n",
        "\n",
        "del dfpd_flights['Date']\n",
        "\n",
        "# move target column to end\n",
        "dfpd_flights = dfpd_flights[['year', 'month', 'day', 'Avg_Delay', 'Sum_Cancelled', 'Sum_Diverted', 'Pandemic', 'Num_Flights']]"
      ],
      "metadata": {
        "id": "5J9jRf4c_QMU"
      },
      "execution_count": null,
      "outputs": []
    },
    {
      "cell_type": "code",
      "source": [
        "dfpd_flights"
      ],
      "metadata": {
        "id": "XP4tDSMo_l4E"
      },
      "execution_count": null,
      "outputs": []
    },
    {
      "cell_type": "code",
      "source": [
        "# TO DO: figure out how to make grid search work, in previous attempts the code did not stop running (see Other section)\n",
        "from sklearn.preprocessing import StandardScaler\n",
        "import xgboost as xgb\n",
        "from sklearn.metrics import mean_squared_error\n",
        "import numpy as np\n",
        "\n",
        "data = dfpd_flights\n",
        "\n",
        "# define the number of splits for walk forward validation\n",
        "n_splits = 25\n",
        "\n",
        "# initialize the XGB Regressor with default parameters\n",
        "model = xgb.XGBRegressor()\n",
        "\n",
        "# initialize variables to keep track of best model\n",
        "best_model = None\n",
        "best_mse = float('inf')\n",
        "\n",
        "features = ['year', 'month', 'day', 'Avg_Delay', 'Sum_Cancelled', 'Sum_Diverted', 'Pandemic']\n",
        "\n",
        "# loop over the splits\n",
        "for i in range(n_splits-1):\n",
        "    # define the train and test sets for the current split\n",
        "    train_start = 0\n",
        "    train_end = int((i+1)*len(data)/n_splits)\n",
        "    test_start = train_end\n",
        "    test_end = test_start + int(len(data)/n_splits)\n",
        "    \n",
        "    train_data = data[train_start:train_end]\n",
        "    test_data = data[test_start:test_end]\n",
        "    \n",
        "    # normalize the data\n",
        "    scaler = StandardScaler()\n",
        "    train_data_norm = scaler.fit_transform(train_data)\n",
        "    test_data_norm = scaler.transform(test_data)\n",
        "    \n",
        "    # split the data into features and target\n",
        "    X_train, y_train = train_data_norm[:,:-1], train_data_norm[:,-1]\n",
        "    X_test, y_test = test_data_norm[:,:-1], test_data_norm[:,-1]\n",
        "\n",
        "    # fit the model on the train set\n",
        "    model.fit(X_train, y_train)\n",
        "    \n",
        "    # make predictions on the test set\n",
        "    y_pred = model.predict(X_test)\n",
        "    \n",
        "    # calculate the mean squared error of the predictions\n",
        "    mse = mean_squared_error(y_test, y_pred)\n",
        "    print(f\"Mean squared error for split {i}: {mse}\")\n",
        "\n",
        "    if mse < best_mse:\n",
        "      best_model = model\n",
        "      best_mse = mse\n",
        "      print(f\"Best mean squared error for split {i}: {mse}\")"
      ],
      "metadata": {
        "id": "_pSZNkZ9-y0y"
      },
      "execution_count": null,
      "outputs": []
    },
    {
      "cell_type": "code",
      "source": [
        "# Reshape y_pred to have shape (n_samples, 1)\n",
        "y_pred = y_pred.reshape(-1, 1)\n",
        "\n",
        "# Use the scaler object to denormalize the predictions\n",
        "y_pred_denorm = scaler.inverse_transform(np.concatenate((X_test, y_pred), axis=1))[:, -1]"
      ],
      "metadata": {
        "id": "NFsIQTvcD_Nw"
      },
      "execution_count": null,
      "outputs": []
    },
    {
      "cell_type": "code",
      "source": [
        "import numpy as np\n",
        "\n",
        "# generate dates from September 2022 to May 2023\n",
        "dates = pd.date_range(start='2022-08-01', end='2023-12-31', freq='D')\n",
        "\n",
        "# create a DataFrame with dates and a column of 3s for 'Pandemic'\n",
        "df_input = pd.DataFrame({'Date': dates, 'Pandemic': np.ones(len(dates), dtype=int)*3})\n",
        "df_input[['Avg_Delay' ,\t'Sum_Cancelled',\t'Sum_Diverted', 'Num_Flights']] = 'NaN'\t\n",
        "\n",
        "# split up date for model\n",
        "df_input[\"Date\"] = pd.to_datetime(df_input[\"Date\"])\n",
        "df_input['month'] = df_input['Date'].dt.month\n",
        "df_input['year'] = df_input['Date'].dt.year\n",
        "df_input['day'] = df_input['Date'].dt.day\n",
        "\n",
        "del df_input['Date']\n",
        "\n",
        "df_input = df_input[['year', 'month', 'day', 'Avg_Delay', 'Sum_Cancelled', 'Sum_Diverted', 'Pandemic', 'Num_Flights']]\n",
        "\n",
        "# display the DataFrame\n",
        "print(df_input.head())"
      ],
      "metadata": {
        "id": "DgDwfORoHVxs"
      },
      "execution_count": null,
      "outputs": []
    },
    {
      "cell_type": "code",
      "source": [
        "# normalize the new input data\n",
        "new_input_norm = scaler.transform(df_input)\n",
        "\n",
        "new_inputF, dummytarget = new_input_norm[:,:-1], new_input_norm[:,-1]\n",
        "\n",
        "# make predictions on the normalized input data\n",
        "predictions = model.predict(new_inputF)\n",
        "\n",
        "# Reshape y_pred to have shape (n_samples, 1)\n",
        "predictions = predictions.reshape(-1, 1)\n",
        "\n",
        "# Use the scaler object to denormalize the predictions\n",
        "predictions_denorm = scaler.inverse_transform(np.concatenate((new_inputF, predictions), axis=1))[:, -1]"
      ],
      "metadata": {
        "id": "3sdwcBaSO_iy"
      },
      "execution_count": null,
      "outputs": []
    },
    {
      "cell_type": "code",
      "source": [
        "import matplotlib.pyplot as plt\n",
        "import pandas as pd\n",
        "\n",
        "# generate dates from August 2022 to May 2023\n",
        "dates = pd.date_range(start='2022-08-01', end='2023-12-31', freq='D')\n",
        "\n",
        "# combine with input data\n",
        "all_dates = pd.date_range(start='2018-01-01', end='2023-12-31', freq='D')\n",
        "historic_numflights = dfpd_flights['Num_Flights']\n",
        "his_flights = historic_numflights.to_numpy()\n",
        "all_numflights = np.concatenate((his_flights, np.round(predictions_denorm)))\n",
        "\n",
        "# Add axis labels and a title\n",
        "fig = plt.figure(figsize = (15, 10))\n",
        "ax = plt.axes()\n",
        "# Create the line plot\n",
        "plt.plot(dates, np.round(predictions_denorm), color ='maroon')\n",
        "#plt.plot(all_dates, all_numflights)\n",
        "plt.xlabel('Date', fontsize=25)\n",
        "plt.ylabel('No. of Flights', fontsize=25)\n",
        "#plt.title(\"Flights per day over 2018-2023\", fontsize=25)\n",
        "plt.title(\"Forecasted Flights per day over 2022-2023\", fontsize=25)\n",
        "# Set y-axis limits to start from 0\n",
        "plt.ylim(0, 15000)\n",
        "\n",
        "# Show the plot\n",
        "plt.show()\n",
        "\n",
        "#plt.savefig('XGBoostForcasted.png') # NOT WORKING\n",
        "#plt.savefig('XGBoostAllYrs.png')"
      ],
      "metadata": {
        "id": "CFHz3aUlX3rc"
      },
      "execution_count": null,
      "outputs": []
    },
    {
      "cell_type": "code",
      "source": [
        "# Add axis labels and a title\n",
        "fig = plt.figure(figsize = (15, 10))\n",
        "ax = plt.axes()\n",
        "# Create the line plot\n",
        "plt.plot(all_dates, all_numflights)\n",
        "plt.xlabel('Date', fontsize=25)\n",
        "plt.ylabel('No. of Flights', fontsize=25)\n",
        "plt.title(\"Flights per day over 2018-2023\", fontsize=25)\n",
        "# Set y-axis limits to start from 0\n",
        "plt.ylim(0, 25000)\n",
        "\n",
        "# Show the plot\n",
        "plt.show()"
      ],
      "metadata": {
        "id": "i9nfKp66ENLi"
      },
      "execution_count": null,
      "outputs": []
    },
    {
      "cell_type": "markdown",
      "source": [
        "## Random Forest Regressor"
      ],
      "metadata": {
        "id": "Mt3O1v99RUVN"
      }
    },
    {
      "cell_type": "code",
      "source": [
        "from sklearn.ensemble import RandomForestRegressor\n",
        "from sklearn.metrics import mean_squared_error\n",
        "from sklearn.preprocessing import StandardScaler\n",
        "import pandas as pd\n",
        "import numpy as np\n",
        "\n",
        "# load the data\n",
        "data = dfpd_flights\n",
        "\n",
        "# set the number of splits for walk-forward validation\n",
        "n_splits = 25\n",
        "\n",
        "# initialize variables to store the best model and its corresponding mean squared error\n",
        "best_model1 = None\n",
        "best_mse1 = np.inf\n",
        "\n",
        "# loop over the splits\n",
        "for i in range(n_splits-1):\n",
        "    # define the train and test sets for the current split\n",
        "    train_start = 0\n",
        "    train_end = int((i+1)*len(data)/n_splits)\n",
        "    test_start = train_end\n",
        "    test_end = test_start + int(len(data)/n_splits)\n",
        "    \n",
        "    train_data = data[train_start:train_end]\n",
        "    test_data = data[test_start:test_end]\n",
        "    \n",
        "    # normalize the data\n",
        "    scaler1 = StandardScaler()\n",
        "    train_data_norm = scaler1.fit_transform(train_data)\n",
        "    test_data_norm = scaler1.transform(test_data)\n",
        "    \n",
        "    # split the data into features and target\n",
        "    X_train, y_train = train_data_norm[:,:-1], train_data_norm[:,-1]\n",
        "    X_test, y_test = test_data_norm[:,:-1], test_data_norm[:,-1]\n",
        "\n",
        "    # initialize the model\n",
        "    model1 = RandomForestRegressor(n_estimators=100, random_state=42)\n",
        "    \n",
        "    # fit the model on the train set\n",
        "    model1.fit(X_train, y_train)\n",
        "    \n",
        "    # make predictions on the test set\n",
        "    y_pred = model1.predict(X_test)\n",
        "    \n",
        "    # undo the normalization on the predictions\n",
        "    #y_pred = scaler.inverse_transform(np.hstack((X_test, y_pred.reshape(-1, 1))))[:, -1]\n",
        "    \n",
        "    # calculate the mean squared error of the predictions\n",
        "    mse = mean_squared_error(y_test, y_pred)\n",
        "    print(f\"Mean squared error for split {i}: {mse}\")\n",
        "\n",
        "    if mse < best_mse:\n",
        "        best_model1 = model1\n",
        "        best_mse1 = mse\n",
        "        print(f\"Best mean squared error for split {i}: {mse}\")\n",
        "    \n",
        "    # update the training data for the next split\n",
        "    train_data = pd.concat([train_data, test_data], axis=0)\n",
        "\n"
      ],
      "metadata": {
        "id": "cB9nMNeeRW9T"
      },
      "execution_count": null,
      "outputs": []
    },
    {
      "cell_type": "code",
      "source": [
        "import numpy as np\n",
        "\n",
        "# generate dates from August 2022 to May 2023\n",
        "dates = pd.date_range(start='2022-08-01', end='2023-12-31', freq='D')\n",
        "\n",
        "# create a DataFrame with dates and a column of 3s for 'Pandemic'\n",
        "df_input = pd.DataFrame({'Date': dates, 'Pandemic': np.ones(len(dates), dtype=int)*3})\n",
        "df_input[['Avg_Delay' ,\t'Sum_Cancelled',\t'Sum_Diverted', 'Num_Flights']] = 0\t\n",
        "\n",
        "# split up date for model\n",
        "df_input[\"Date\"] = pd.to_datetime(df_input[\"Date\"])\n",
        "df_input['month'] = df_input['Date'].dt.month\n",
        "df_input['year'] = df_input['Date'].dt.year\n",
        "df_input['day'] = df_input['Date'].dt.day\n",
        "\n",
        "del df_input['Date']\n",
        "\n",
        "df_input = df_input[['year', 'month', 'day', 'Avg_Delay', 'Sum_Cancelled', 'Sum_Diverted', 'Pandemic', 'Num_Flights']]\n",
        "\n",
        "# display the DataFrame\n",
        "print(df_input.head())"
      ],
      "metadata": {
        "id": "VAwUhzYRUKVX"
      },
      "execution_count": null,
      "outputs": []
    },
    {
      "cell_type": "code",
      "source": [
        "# normalize the new input data\n",
        "new_input_norm = scaler1.transform(df_input)\n",
        "\n",
        "new_inputF, dummytarget = new_input_norm[:,:-1], new_input_norm[:,-1]\n",
        "\n",
        "# make predictions on the normalized input data\n",
        "predictions1 = model1.predict(new_inputF)\n",
        "\n",
        "# Reshape y_pred to have shape (n_samples, 1)\n",
        "predictions1 = predictions1.reshape(-1, 1)\n",
        "\n",
        "# Use the scaler object to denormalize the predictions\n",
        "predictions_denorm1 = scaler1.inverse_transform(np.concatenate((new_inputF, predictions1), axis=1))[:, -1]"
      ],
      "metadata": {
        "id": "zUCn43h4V4Y6"
      },
      "execution_count": null,
      "outputs": []
    },
    {
      "cell_type": "code",
      "source": [
        "import matplotlib.pyplot as plt\n",
        "import pandas as pd\n",
        "\n",
        "# generate dates from September 2022 to May 2023\n",
        "dates = pd.date_range(start='2022-08-01', end='2023-12-31', freq='D')\n",
        "\n",
        "# combine with input data\n",
        "all_dates = pd.date_range(start='2018-01-01', end='2023-12-31', freq='D')\n",
        "historic_numflights = dfpd_flights['Num_Flights']\n",
        "his_flights = historic_numflights.to_numpy()\n",
        "all_numflights = np.concatenate((his_flights, np.round(predictions_denorm1)))\n",
        "\n",
        "# Add axis labels and a title\n",
        "fig = plt.figure(figsize = (15, 10))\n",
        "ax = plt.axes()\n",
        "# Create the line plot\n",
        "plt.plot(dates, np.round(predictions_denorm1), color ='maroon')\n",
        "#plt.plot(all_dates, all_numflights)\n",
        "plt.xlabel('Date', fontsize=25)\n",
        "plt.ylabel('No. of Flights', fontsize=25)\n",
        "#plt.title(\"Flights per day over 2018-2023\", fontsize=25)\n",
        "plt.title(\"Forecasted Flights per day over 2022-2023\", fontsize=25)\n",
        "# Set y-axis limits to start from 0\n",
        "plt.ylim(0, 15000)\n",
        "\n",
        "# Show the plot\n",
        "plt.show()"
      ],
      "metadata": {
        "colab": {
          "base_uri": "https://localhost:8080/",
          "height": 768
        },
        "id": "yqvW2Ug4S_yM",
        "outputId": "eb5247ee-54e5-4ff9-d396-c7bd4b059cf2"
      },
      "execution_count": null,
      "outputs": [
        {
          "output_type": "display_data",
          "data": {
            "text/plain": [
              "<Figure size 1500x1000 with 1 Axes>"
            ],
            "image/png": "[encoded data removed]"
          },
          "metadata": {}
        }
      ]
    },
    {
      "cell_type": "code",
      "source": [
        "# Add axis labels and a title\n",
        "fig = plt.figure(figsize = (15, 10))\n",
        "ax = plt.axes()\n",
        "# Create the line plot\n",
        "plt.plot(all_dates, all_numflights)\n",
        "plt.xlabel('Date', fontsize=25)\n",
        "plt.ylabel('No. of Flights', fontsize=25)\n",
        "plt.title(\"Flights per day over 2018-2023\", fontsize=25)\n",
        "\n",
        "# Set y-axis limits to start from 0\n",
        "plt.ylim(0, 25000)\n",
        "\n",
        "# Show the plot\n",
        "plt.show()"
      ],
      "metadata": {
        "colab": {
          "base_uri": "https://localhost:8080/",
          "height": 768
        },
        "id": "d9ihNt43Wd0M",
        "outputId": "7ff8d8b3-6efb-4ffc-a3d9-5c8b333a6c21"
      },
      "execution_count": null,
      "outputs": [
        {
          "output_type": "display_data",
          "data": {
            "text/plain": [
              "<Figure size 1500x1000 with 1 Axes>"
            ],
            "image/png": "[encoded data removed]"
          },
          "metadata": {}
        }
      ]
    },
    {
      "cell_type": "markdown",
      "source": [
        "## ARIMA\n",
        "\n",
        "For ARIMA (Autoregressive Integrated Moving Average) models, it is generally recommended to use StandardScaler to normalize the input data.\n",
        "\n",
        "ARIMA models assume that the input time series data is stationary, meaning that its statistical properties (such as mean and variance) are constant over time. StandardScaler, which scales the data to have zero mean and unit variance, can help to stabilize the statistical properties of the input time series and make it more stationary.\n",
        "\n",
        "TO DO: use autocorrelation plots to determine best parameters p, d, and q. Right now they are all set to 1 and this is not optimal. Also check the stationarity of the data with statistical tests."
      ],
      "metadata": {
        "id": "YBONAebYb_A6"
      }
    },
    {
      "cell_type": "code",
      "source": [
        "from google.colab import drive\n",
        "drive.mount('/content/drive')"
      ],
      "metadata": {
        "colab": {
          "base_uri": "https://localhost:8080/"
        },
        "id": "Dc4KaiM0cHr8",
        "outputId": "bf2ebf73-fa23-424d-ddae-20e41cee3e8f"
      },
      "execution_count": 4,
      "outputs": [
        {
          "output_type": "stream",
          "name": "stdout",
          "text": [
            "Mounted at /content/drive\n"
          ]
        }
      ]
    },
    {
      "cell_type": "code",
      "source": [
        "import pandas as pd\n",
        "dfpd_flights = pd.read_parquet('/content/drive/MyDrive/DA/forecastDF_correct') \n",
        "# sort rows according to date\n",
        "dfpd_flights = dfpd_flights.sort_values('Date')"
      ],
      "metadata": {
        "id": "85FOdJMJZBlL"
      },
      "execution_count": null,
      "outputs": []
    },
    {
      "cell_type": "code",
      "source": [
        "# one hot encode pandemic column\n",
        "dfpd_flights = pd.get_dummies(dfpd_flights, columns=['Pandemic'])"
      ],
      "metadata": {
        "id": "6Oed96s_iUK1"
      },
      "execution_count": null,
      "outputs": []
    },
    {
      "cell_type": "code",
      "source": [
        "dfpd_flights"
      ],
      "metadata": {
        "id": "I74Uy_toYkya"
      },
      "execution_count": null,
      "outputs": []
    },
    {
      "cell_type": "code",
      "source": [
        "#dfpd_flights[\"Date\"] = dfpd_flights[\"Date\"].astype(str)"
      ],
      "metadata": {
        "id": "iXn1vPnjl8Ze"
      },
      "execution_count": null,
      "outputs": []
    },
    {
      "cell_type": "code",
      "source": [
        "dfpd_flights[\"Date\"] = pd.to_datetime(dfpd_flights[\"Date\"])"
      ],
      "metadata": {
        "id": "PnSuUOlhmZ4Z"
      },
      "execution_count": null,
      "outputs": []
    },
    {
      "cell_type": "code",
      "source": [
        "# without normalization\n",
        "import pandas as pd\n",
        "import numpy as np\n",
        "import statsmodels.api as sm\n",
        "\n",
        "# Load the data\n",
        "data = dfpd_flights\n",
        "\n",
        "# Set the index to the date column\n",
        "data['Date'] = pd.to_datetime(data['Date'])\n",
        "data.set_index('Date', inplace=True)\n",
        "\n",
        "# Split into train and test sets\n",
        "train_data = data.loc[:'2022-06-30']\n",
        "test_data = data.loc['2022-07-01':]\n",
        "\n",
        "# Fit ARIMA model on training data\n",
        "model = sm.tsa.statespace.SARIMAX(train_data['Num_Flights'], order=(1,1,1), seasonal_order=(0,1,1,12))\n",
        "results = model.fit()\n",
        "\n",
        "# Walk forward through test set and make predictions\n",
        "predictions = []\n",
        "for i in range(len(test_data)):\n",
        "    # Fit model on updated training data\n",
        "    train = data[:len(train_data)+i]\n",
        "    model = sm.tsa.statespace.SARIMAX(train['Num_Flights'], order=(1,1,1), seasonal_order=(0,1,1,12))\n",
        "    results = model.fit()\n",
        "    \n",
        "    # Make prediction for next time step\n",
        "    pred = results.forecast(steps=1, exog=test_data.iloc[[i]][['Avg_Delay', 'Sum_Cancelled', 'Sum_Diverted', 'Pandemic']])\n",
        "    predictions.append(pred[0])\n",
        "    \n",
        "# Calculate MSE\n",
        "mse = np.mean((test_data['Num_Flights'].values - predictions)**2)\n",
        "print(\"Mean squared error:\", mse)"
      ],
      "metadata": {
        "id": "-ZMLhvTJLwn2"
      },
      "execution_count": null,
      "outputs": []
    },
    {
      "cell_type": "code",
      "source": [
        "# Generate future dates\n",
        "start_date = data.index[-1] + pd.DateOffset(days=1)\n",
        "end_date = start_date + pd.DateOffset(years=1)\n",
        "future_dates = pd.date_range(start_date, end_date, freq='MS')\n",
        "\n",
        "# Create exogenous variable DataFrame for future dates\n",
        "exog = pd.DataFrame({'Avg_Delay': 0, 'Sum_Cancelled': 0, 'Sum_Diverted': 0, 'Pandemic': 0}, index=future_dates)\n",
        "\n",
        "# Make predictions for next year\n",
        "predictions= results.predict(start =start_date, end=end_date,exog=exog)\n",
        "pred= results.forecast(steps=1, exog=exog)"
      ],
      "metadata": {
        "id": "Cmv1I0KdMR1K"
      },
      "execution_count": null,
      "outputs": []
    },
    {
      "cell_type": "code",
      "source": [
        "dates = pd.date_range(start='2022-08-01', end='2023-08-01', freq='D')\n",
        "# Add axis labels and a title\n",
        "fig = plt.figure(figsize = (15, 10))\n",
        "ax = plt.axes()\n",
        "# Create the line plot\n",
        "plt.plot(dates, np.round(predictions), color ='maroon')\n",
        "#plt.plot(all_dates, all_numflights)\n",
        "plt.xlabel('Date', fontsize=25)\n",
        "plt.ylabel('No. of Flights', fontsize=25)\n",
        "#plt.title(\"Flights per day over 2018-2023\", fontsize=25)\n",
        "plt.title(\"Forecasted Flights per day over 2022-2023\", fontsize=25)\n",
        "# Set y-axis limits to start from 0\n",
        "#plt.ylim(0, 15000)\n",
        "\n",
        "# Show the plot\n",
        "plt.show()"
      ],
      "metadata": {
        "id": "VfRR5N3KN-du"
      },
      "execution_count": null,
      "outputs": []
    },
    {
      "cell_type": "code",
      "source": [
        "# RUN 1\n",
        "import pandas as pd\n",
        "dfpd_flights = pd.read_parquet('/content/drive/MyDrive/DA/forecastDF_correct') \n",
        "# sort rows according to date\n",
        "dfpd_flights = dfpd_flights.sort_values('Date')"
      ],
      "metadata": {
        "id": "HRmTbmjemxmO"
      },
      "execution_count": null,
      "outputs": []
    },
    {
      "cell_type": "code",
      "source": [
        "# RUN 2\n",
        "# with normalization\n",
        "\n",
        "import statsmodels.api as sm\n",
        "from sklearn.preprocessing import StandardScaler\n",
        "import numpy as np\n",
        "\n",
        "# Load the data\n",
        "data = dfpd_flights\n",
        "\n",
        "# Set the index to the date column\n",
        "data['Date'] = pd.to_datetime(data['Date'])\n",
        "data.set_index('Date', inplace=True)\n",
        "\n",
        "# Split into train and test sets\n",
        "train_data = data.loc[:'2022-06-30']\n",
        "test_data = data.loc['2022-07-01':'2022-07-03']\n",
        "#test_data = data.loc['2022-07-01':] # SHOULD BE THIS\n",
        "\n",
        "# Normalize the data\n",
        "scaler2 = StandardScaler()\n",
        "train_data_norm = pd.DataFrame(scaler2.fit_transform(train_data), columns=train_data.columns, index=train_data.index)\n",
        "test_data_norm = pd.DataFrame(scaler2.transform(test_data), columns=test_data.columns, index=test_data.index)\n",
        "\n",
        "# Fit ARIMA model on training data\n",
        "model2 = sm.tsa.statespace.SARIMAX(train_data_norm['Num_Flights'], order=(1,1,1), seasonal_order=(0,1,1,12))\n",
        "results = model2.fit()\n",
        "\n",
        "# Walk forward through test set and make predictions\n",
        "predictions = []\n",
        "for i in range(len(test_data_norm)):\n",
        "    # Fit model on updated training data\n",
        "    train = data[:len(train_data)+i]\n",
        "    train_norm = pd.DataFrame(scaler2.transform(train), columns=train.columns, index=train.index)\n",
        "    model = sm.tsa.statespace.SARIMAX(train_norm['Num_Flights'], order=(1,1,1), seasonal_order=(0,1,1,12))\n",
        "    results = model.fit()\n",
        "    \n",
        "    # Make prediction for next time step\n",
        "    #pred_norm = results.forecast(steps=1, exog=test_data_norm.iloc[[i]][['Avg_Delay', 'Sum_Cancelled', 'Sum_Diverted', 'Pandemic']].values.reshape(1, -1))\n",
        "    #pred = scaler2.inverse_transform(pred_norm.values.reshape(1, -1))[0][0]\n",
        "    pred_norm = results.forecast(steps=1, exog=test_data_norm.iloc[[i]][['Avg_Delay', 'Sum_Cancelled', 'Sum_Diverted', 'Pandemic']].values.reshape(1, -1))\n",
        "    shapedpred =  pd.DataFrame(pred_norm)\n",
        "    shapedpred[['Avg_Delay' ,\t'Sum_Cancelled',\t'Sum_Diverted', 'Pandemic']] = 0\t\n",
        "    shapedpred.columns = ['Num_Flights', 'Avg_Delay' ,\t'Sum_Cancelled',\t'Sum_Diverted', 'Pandemic']\t\n",
        "    #pred = scaler2.inverse_transform(pred_norm.values.reshape(1, 5))[0][0]\n",
        "    pred = scaler2.inverse_transform(shapedpred)\n",
        "    print(pred)\n",
        "    predictions.append(pred)\n",
        "    \n",
        "# Calculate MSE\n",
        "predictions = np.array(predictions)\n",
        "predictions = predictions.squeeze()\n",
        "mse = np.mean((test_data['Num_Flights'].values - predictions[:,3])**2)\n",
        "print(\"Mean squared error:\", mse)\n"
      ],
      "metadata": {
        "id": "2Dcv2fE0ghqp"
      },
      "execution_count": null,
      "outputs": []
    },
    {
      "cell_type": "code",
      "source": [
        "test_data['Num_Flights'].values"
      ],
      "metadata": {
        "colab": {
          "base_uri": "https://localhost:8080/"
        },
        "id": "7AyqzgM4nTNM",
        "outputId": "2d7873f3-c8a7-4e47-91c7-15d69a312470"
      },
      "execution_count": null,
      "outputs": [
        {
          "output_type": "execute_result",
          "data": {
            "text/plain": [
              "array([20772, 18363, 18780])"
            ]
          },
          "metadata": {},
          "execution_count": 79
        }
      ]
    },
    {
      "cell_type": "code",
      "source": [
        "mse = np.mean((test_data['Num_Flights'].values - predictions[:,3])**2)\n",
        "print(\"Mean squared error:\", mse)\n"
      ],
      "metadata": {
        "id": "dylGzfSBu949",
        "outputId": "211caeb9-9357-41b3-a9db-33c9b7cc8904",
        "colab": {
          "base_uri": "https://localhost:8080/"
        }
      },
      "execution_count": null,
      "outputs": [
        {
          "output_type": "stream",
          "name": "stdout",
          "text": [
            "Mean squared error: 4724330.648057024\n"
          ]
        }
      ]
    },
    {
      "cell_type": "code",
      "source": [
        "shapedpred =  pd.DataFrame(pred_norm)\n",
        "shapedpred[['Avg_Delay' ,\t'Sum_Cancelled',\t'Sum_Diverted', 'Num_Flights']] = 'NaN'\t\n",
        "shapedpred.columns = ['Num_Flights', 'Avg_Delay' ,\t'Sum_Cancelled',\t'Sum_Diverted', 'Pandemic']\t"
      ],
      "metadata": {
        "id": "6aqC7_VPi7dl"
      },
      "execution_count": null,
      "outputs": []
    },
    {
      "cell_type": "code",
      "source": [
        "predictions = np.array(predictions)"
      ],
      "metadata": {
        "id": "c2ijlyhil3P3"
      },
      "execution_count": null,
      "outputs": []
    },
    {
      "cell_type": "code",
      "source": [
        "predictions = predictions.squeeze()"
      ],
      "metadata": {
        "id": "ICmDPdgBpLf0"
      },
      "execution_count": null,
      "outputs": []
    },
    {
      "cell_type": "code",
      "source": [
        "predictions[:,3]"
      ],
      "metadata": {
        "colab": {
          "base_uri": "https://localhost:8080/"
        },
        "id": "JnMqG_cDqbgE",
        "outputId": "dbceb187-a634-459d-9aa2-be2a2c23fc32"
      },
      "execution_count": null,
      "outputs": [
        {
          "output_type": "execute_result",
          "data": {
            "text/plain": [
              "array([17402.55298417, 17402.55298417, 17402.55298417])"
            ]
          },
          "metadata": {},
          "execution_count": 77
        }
      ]
    },
    {
      "cell_type": "code",
      "source": [
        "shapedpred"
      ],
      "metadata": {
        "colab": {
          "base_uri": "https://localhost:8080/",
          "height": 81
        },
        "id": "RVEPv5VjpsSf",
        "outputId": "c463aa21-b91c-4b96-8f4b-763acfc9004e"
      },
      "execution_count": null,
      "outputs": [
        {
          "output_type": "execute_result",
          "data": {
            "text/plain": [
              "            Num_Flights  Avg_Delay  Sum_Cancelled  Sum_Diverted  Pandemic\n",
              "2022-07-03     0.453354          0              0             0         0"
            ],
            "text/html": [
              "\n",
              "  <div id=\"df-d90e3108-d3d2-4a97-b2b6-bbf2b43aa905\">\n",
              "    <div class=\"colab-df-container\">\n",
              "      <div>\n",
              "<style scoped>\n",
              "    .dataframe tbody tr th:only-of-type {\n",
              "        vertical-align: middle;\n",
              "    }\n",
              "\n",
              "    .dataframe tbody tr th {\n",
              "        vertical-align: top;\n",
              "    }\n",
              "\n",
              "    .dataframe thead th {\n",
              "        text-align: right;\n",
              "    }\n",
              "</style>\n",
              "<table border=\"1\" class=\"dataframe\">\n",
              "  <thead>\n",
              "    <tr style=\"text-align: right;\">\n",
              "      <th></th>\n",
              "      <th>Num_Flights</th>\n",
              "      <th>Avg_Delay</th>\n",
              "      <th>Sum_Cancelled</th>\n",
              "      <th>Sum_Diverted</th>\n",
              "      <th>Pandemic</th>\n",
              "    </tr>\n",
              "  </thead>\n",
              "  <tbody>\n",
              "    <tr>\n",
              "      <th>2022-07-03</th>\n",
              "      <td>0.453354</td>\n",
              "      <td>0</td>\n",
              "      <td>0</td>\n",
              "      <td>0</td>\n",
              "      <td>0</td>\n",
              "    </tr>\n",
              "  </tbody>\n",
              "</table>\n",
              "</div>\n",
              "      <button class=\"colab-df-convert\" onclick=\"convertToInteractive('df-d90e3108-d3d2-4a97-b2b6-bbf2b43aa905')\"\n",
              "              title=\"Convert this dataframe to an interactive table.\"\n",
              "              style=\"display:none;\">\n",
              "        \n",
              "  <svg xmlns=\"http://www.w3.org/2000/svg\" height=\"24px\"viewBox=\"0 0 24 24\"\n",
              "       width=\"24px\">\n",
              "    <path d=\"M0 0h24v24H0V0z\" fill=\"none\"/>\n",
              "    <path d=\"M18.56 5.44l.94 2.06.94-2.06 2.06-.94-2.06-.94-.94-2.06-.94 2.06-2.06.94zm-11 1L8.5 8.5l.94-2.06 2.06-.94-2.06-.94L8.5 2.5l-.94 2.06-2.06.94zm10 10l.94 2.06.94-2.06 2.06-.94-2.06-.94-.94-2.06-.94 2.06-2.06.94z\"/><path d=\"M17.41 7.96l-1.37-1.37c-.4-.4-.92-.59-1.43-.59-.52 0-1.04.2-1.43.59L10.3 9.45l-7.72 7.72c-.78.78-.78 2.05 0 2.83L4 21.41c.39.39.9.59 1.41.59.51 0 1.02-.2 1.41-.59l7.78-7.78 2.81-2.81c.8-.78.8-2.07 0-2.86zM5.41 20L4 18.59l7.72-7.72 1.47 1.35L5.41 20z\"/>\n",
              "  </svg>\n",
              "      </button>\n",
              "      \n",
              "  <style>\n",
              "    .colab-df-container {\n",
              "      display:flex;\n",
              "      flex-wrap:wrap;\n",
              "      gap: 12px;\n",
              "    }\n",
              "\n",
              "    .colab-df-convert {\n",
              "      background-color: #E8F0FE;\n",
              "      border: none;\n",
              "      border-radius: 50%;\n",
              "      cursor: pointer;\n",
              "      display: none;\n",
              "      fill: #1967D2;\n",
              "      height: 32px;\n",
              "      padding: 0 0 0 0;\n",
              "      width: 32px;\n",
              "    }\n",
              "\n",
              "    .colab-df-convert:hover {\n",
              "      background-color: #E2EBFA;\n",
              "      box-shadow: 0px 1px 2px rgba(60, 64, 67, 0.3), 0px 1px 3px 1px rgba(60, 64, 67, 0.15);\n",
              "      fill: #174EA6;\n",
              "    }\n",
              "\n",
              "    [theme=dark] .colab-df-convert {\n",
              "      background-color: #3B4455;\n",
              "      fill: #D2E3FC;\n",
              "    }\n",
              "\n",
              "    [theme=dark] .colab-df-convert:hover {\n",
              "      background-color: #434B5C;\n",
              "      box-shadow: 0px 1px 3px 1px rgba(0, 0, 0, 0.15);\n",
              "      filter: drop-shadow(0px 1px 2px rgba(0, 0, 0, 0.3));\n",
              "      fill: #FFFFFF;\n",
              "    }\n",
              "  </style>\n",
              "\n",
              "      <script>\n",
              "        const buttonEl =\n",
              "          document.querySelector('#df-d90e3108-d3d2-4a97-b2b6-bbf2b43aa905 button.colab-df-convert');\n",
              "        buttonEl.style.display =\n",
              "          google.colab.kernel.accessAllowed ? 'block' : 'none';\n",
              "\n",
              "        async function convertToInteractive(key) {\n",
              "          const element = document.querySelector('#df-d90e3108-d3d2-4a97-b2b6-bbf2b43aa905');\n",
              "          const dataTable =\n",
              "            await google.colab.kernel.invokeFunction('convertToInteractive',\n",
              "                                                     [key], {});\n",
              "          if (!dataTable) return;\n",
              "\n",
              "          const docLinkHtml = 'Like what you see? Visit the ' +\n",
              "            '<a target=\"_blank\" href=https://colab.research.google.com/notebooks/data_table.ipynb>data table notebook</a>'\n",
              "            + ' to learn more about interactive tables.';\n",
              "          element.innerHTML = '';\n",
              "          dataTable['output_type'] = 'display_data';\n",
              "          await google.colab.output.renderOutput(dataTable, element);\n",
              "          const docLink = document.createElement('div');\n",
              "          docLink.innerHTML = docLinkHtml;\n",
              "          element.appendChild(docLink);\n",
              "        }\n",
              "      </script>\n",
              "    </div>\n",
              "  </div>\n",
              "  "
            ]
          },
          "metadata": {},
          "execution_count": 63
        }
      ]
    },
    {
      "cell_type": "markdown",
      "source": [
        "## Other"
      ],
      "metadata": {
        "id": "FbE0tY62Xj_v"
      }
    },
    {
      "cell_type": "code",
      "source": [
        "import pandas as pd\n",
        "from sklearn.model_selection import GridSearchCV\n",
        "from xgboost import XGBRegressor\n",
        "\n",
        "\n",
        "# Define hyperparameters and ranges to be tuned\n",
        "param_grid = {\n",
        "    'n_estimators': [200, 300, 400, 500],\n",
        "    'learning_rate': [0.001, 0.005, 0.01, 0.1, 1],\n",
        "    'max_depth': [3, 5, 7]\n",
        "}\n",
        "\n",
        "# Create XGBoostRegressor model\n",
        "xgb_model = XGBRegressor()\n",
        "\n",
        "# Perform grid search with cross-validation\n",
        "grid_search = GridSearchCV(estimator=xgb_model, param_grid=param_grid, cv=10, n_jobs=-1)\n",
        "\n",
        "# Fit the grid search to the data\n",
        "grid_search.fit(X_train, y_train)\n",
        "\n",
        "# Print the best parameters and score\n",
        "print(\"Best parameters: \", grid_search.best_params_)\n",
        "print(\"Best score: \", grid_search.best_score_)\n"
      ],
      "metadata": {
        "id": "svsVE-1b20Bn",
        "colab": {
          "base_uri": "https://localhost:8080/"
        },
        "outputId": "22bb409f-1257-4a78-f20e-078de0713053"
      },
      "execution_count": null,
      "outputs": [
        {
          "output_type": "stream",
          "name": "stdout",
          "text": [
            "Best parameters:  {'learning_rate': 0.1, 'max_depth': 5, 'n_estimators': 200}\n",
            "Best score:  0.9056783542731981\n"
          ]
        }
      ]
    },
    {
      "cell_type": "code",
      "source": [
        "# Walk forward validation with grid search - but this runs forever FIX\n",
        "import numpy as np\n",
        "from xgboost import XGBRegressor\n",
        "from sklearn.metrics import mean_squared_error\n",
        "from math import sqrt\n",
        "from sklearn.model_selection import GridSearchCV\n",
        "\n",
        "# Define window size for walk-forward validation\n",
        "window_size = 50\n",
        "\n",
        "# Define parameter grid for XGBoost hyperparameters\n",
        "param_grid = {\n",
        "    'n_estimators': [100, 200, 300],\n",
        "    'learning_rate': [0.05, 0.1, 0.2],\n",
        "    'max_depth': [3, 4, 5],\n",
        "    'min_child_weight': [1, 2, 3],\n",
        "    'subsample': [0.8, 0.9, 1],\n",
        "    'colsample_bytree': [0.8, 0.9, 1],\n",
        "}\n",
        "\n",
        "# Define XGBoostRegressor model\n",
        "xgb_model = XGBRegressor()\n",
        "\n",
        "# Initialize GridSearchCV with XGBoostRegressor model and parameter grid\n",
        "grid_search = GridSearchCV(xgb_model, param_grid=param_grid, scoring='neg_root_mean_squared_error', cv=5)\n",
        "\n",
        "# Initialize list to store RMSE scores for each fold\n",
        "rmse_scores = []\n",
        "\n",
        "# Loop over the sliding window of train-test splits\n",
        "for i in range(window_size, len(X_train), window_size):\n",
        "    # Define train and test splits for this fold\n",
        "    X_train_fold = X_train[i-window_size:i]\n",
        "    y_train_fold = y_train[i-window_size:i]\n",
        "    X_test_fold = X_train[i-window_size:i]\n",
        "    y_test_fold = y_train[i-window_size:i]\n",
        "    \n",
        "    # Fit the GridSearchCV object to the training data for this fold\n",
        "    grid_search.fit(X_train_fold, y_train_fold)\n",
        "    \n",
        "    # Get the best estimator from the GridSearchCV object\n",
        "    best_model = grid_search.best_estimator_\n",
        "    \n",
        "    # Make predictions on the test data for this fold using the best estimator\n",
        "    y_pred_fold = best_model.predict(X_test_fold)\n",
        "    \n",
        "    # Calculate RMSE for this fold and add it to the list of scores\n",
        "    rmse_scores.append(sqrt(mean_squared_error(y_test_fold, y_pred_fold)))\n",
        "\n",
        "# Calculate the mean RMSE score across all folds\n",
        "mean_rmse = np.mean(rmse_scores)\n",
        "\n",
        "# Print the mean RMSE score\n",
        "print(\"Mean RMSE score: \", mean_rmse)\n",
        "\n",
        "# Print the best hyperparameters found by GridSearchCV\n",
        "print(\"Best hyperparameters: \", grid_search.best_params_)\n"
      ],
      "metadata": {
        "id": "uG8l2_yx-V-9"
      },
      "execution_count": null,
      "outputs": []
    },
    {
      "cell_type": "code",
      "source": [
        "import pickle\n",
        "file = open('/content/drive/MyDrive/DA/xgboostWalk.pkl', 'rb')\n",
        "xgb_model = pickle.load(file)"
      ],
      "metadata": {
        "id": "1TseRGbv5F7h"
      },
      "execution_count": null,
      "outputs": []
    },
    {
      "cell_type": "code",
      "source": [
        "# save models\n",
        "import pickle\n",
        "pickle.dump(model, open('/content/drive/MyDrive/DA/xgboostCrossVal.pkl', 'wb'))\n"
      ],
      "metadata": {
        "id": "5ecX8tFzUkw0"
      },
      "execution_count": null,
      "outputs": []
    }
  ]
}